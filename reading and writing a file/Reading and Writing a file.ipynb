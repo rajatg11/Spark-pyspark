{
 "cells": [
  {
   "cell_type": "markdown",
   "metadata": {},
   "source": [
    "# Reading and Writing Data with Spark\n",
    "\n",
    "The data set is read in from a local file and then write\n",
    "\n",
    "First let's import SparkConf and SparkSession"
   ]
  },
  {
   "cell_type": "code",
   "execution_count": 2,
   "metadata": {},
   "outputs": [],
   "source": [
    "import pyspark\n",
    "from pyspark import SparkConf\n",
    "from pyspark.sql import SparkSession\n",
    "import pandas as pd"
   ]
  },
  {
   "cell_type": "markdown",
   "metadata": {},
   "source": [
    "Since we're using Spark locally we already have both a sparkcontext and a sparksession running. We can update some of the parameters, such our application's name. Let's just call it \"Our first Python Spark SQL example\""
   ]
  },
  {
   "cell_type": "code",
   "execution_count": 3,
   "metadata": {},
   "outputs": [],
   "source": [
    "spark = SparkSession \\\n",
    "    .builder \\\n",
    "    .appName(\"Our first Python Spark SQL example\") \\\n",
    "    .getOrCreate()"
   ]
  },
  {
   "cell_type": "markdown",
   "metadata": {},
   "source": [
    "Let's create our first dataframe from a fairly small sample data set Titanic. I had converted the Titanic train csv file to json."
   ]
  },
  {
   "cell_type": "code",
   "execution_count": 17,
   "metadata": {},
   "outputs": [],
   "source": [
    "## read json file\n",
    "path = \"titanic.json\"\n",
    "user_log = spark.read.json(path)"
   ]
  },
  {
   "cell_type": "code",
   "execution_count": 16,
   "metadata": {},
   "outputs": [
    {
     "name": "stdout",
     "output_type": "stream",
     "text": [
      "root\n",
      " |-- Age: double (nullable = true)\n",
      " |-- Cabin: string (nullable = true)\n",
      " |-- Embarked: string (nullable = true)\n",
      " |-- Fare: double (nullable = true)\n",
      " |-- Name: string (nullable = true)\n",
      " |-- Parch: long (nullable = true)\n",
      " |-- PassengerId: long (nullable = true)\n",
      " |-- Pclass: long (nullable = true)\n",
      " |-- Sex: string (nullable = true)\n",
      " |-- SibSp: long (nullable = true)\n",
      " |-- Survived: long (nullable = true)\n",
      " |-- Ticket: string (nullable = true)\n",
      "\n"
     ]
    }
   ],
   "source": [
    "## Prints out the schema in the tree format\n",
    "user_log.printSchema()"
   ]
  },
  {
   "cell_type": "code",
   "execution_count": 20,
   "metadata": {},
   "outputs": [
    {
     "name": "stdout",
     "output_type": "stream",
     "text": [
      "+-------+------------------+-----+--------+-----------------+--------------------+-------------------+-----------------+------------------+------+------------------+-------------------+------------------+\n",
      "|summary|               Age|Cabin|Embarked|             Fare|                Name|              Parch|      PassengerId|            Pclass|   Sex|             SibSp|           Survived|            Ticket|\n",
      "+-------+------------------+-----+--------+-----------------+--------------------+-------------------+-----------------+------------------+------+------------------+-------------------+------------------+\n",
      "|  count|               714|  204|     889|              891|                 891|                891|              891|               891|   891|               891|                891|               891|\n",
      "|   mean| 29.69911764705882| null|    null| 32.2042079685746|                null|0.38159371492704824|            446.0| 2.308641975308642|  null|0.5230078563411896| 0.3838383838383838|260318.54916792738|\n",
      "| stddev|14.526497332334035| null|    null|49.69342859718089|                null| 0.8060572211299488|257.3538420152301|0.8360712409770491|  null|1.1027434322934315|0.48659245426485753|471609.26868834975|\n",
      "|    min|              0.42|  A10|       C|              0.0| Abbing, Mr. Anthony|                  0|                1|                 1|female|                 0|                  0|            110152|\n",
      "|    max|              80.0|    T|       S|         512.3292|van Melkebeke, Mr...|                  6|              891|                 3|  male|                 8|                  1|         WE/P 5735|\n",
      "+-------+------------------+-----+--------+-----------------+--------------------+-------------------+-----------------+------------------+------+------------------+-------------------+------------------+\n",
      "\n"
     ]
    }
   ],
   "source": [
    "## describe function works the same way as in Pandas - shows stats\n",
    "user_log.describe().show()"
   ]
  },
  {
   "cell_type": "code",
   "execution_count": 21,
   "metadata": {},
   "outputs": [
    {
     "name": "stdout",
     "output_type": "stream",
     "text": [
      "+-------+------------------+\n",
      "|summary|               Age|\n",
      "+-------+------------------+\n",
      "|  count|               714|\n",
      "|   mean| 29.69911764705882|\n",
      "| stddev|14.526497332334035|\n",
      "|    min|              0.42|\n",
      "|    max|              80.0|\n",
      "+-------+------------------+\n",
      "\n"
     ]
    }
   ],
   "source": [
    "user_log.describe('Age').show()"
   ]
  },
  {
   "cell_type": "code",
   "execution_count": 23,
   "metadata": {},
   "outputs": [
    {
     "name": "stdout",
     "output_type": "stream",
     "text": [
      "+----+-----+--------+-------+--------------------+-----+-----------+------+------+-----+--------+----------------+\n",
      "| Age|Cabin|Embarked|   Fare|                Name|Parch|PassengerId|Pclass|   Sex|SibSp|Survived|          Ticket|\n",
      "+----+-----+--------+-------+--------------------+-----+-----------+------+------+-----+--------+----------------+\n",
      "|22.0| null|       S|   7.25|Braund, Mr. Owen ...|    0|          1|     3|  male|    1|       0|       A/5 21171|\n",
      "|38.0|  C85|       C|71.2833|Cumings, Mrs. Joh...|    0|          2|     1|female|    1|       1|        PC 17599|\n",
      "|26.0| null|       S|  7.925|Heikkinen, Miss. ...|    0|          3|     3|female|    0|       1|STON/O2. 3101282|\n",
      "|35.0| C123|       S|   53.1|Futrelle, Mrs. Ja...|    0|          4|     1|female|    1|       1|          113803|\n",
      "|35.0| null|       S|   8.05|Allen, Mr. Willia...|    0|          5|     3|  male|    0|       0|          373450|\n",
      "+----+-----+--------+-------+--------------------+-----+-----------+------+------+-----+--------+----------------+\n",
      "only showing top 5 rows\n",
      "\n"
     ]
    }
   ],
   "source": [
    "## show works similar to print in pandas - default is 20\n",
    "user_log.show(n=5)"
   ]
  },
  {
   "cell_type": "code",
   "execution_count": 24,
   "metadata": {},
   "outputs": [
    {
     "data": {
      "text/plain": [
       "[Row(Age=22.0, Cabin=None, Embarked='S', Fare=7.25, Name='Braund, Mr. Owen Harris', Parch=0, PassengerId=1, Pclass=3, Sex='male', SibSp=1, Survived=0, Ticket='A/5 21171'),\n",
       " Row(Age=38.0, Cabin='C85', Embarked='C', Fare=71.2833, Name='Cumings, Mrs. John Bradley (Florence Briggs Thayer)', Parch=0, PassengerId=2, Pclass=1, Sex='female', SibSp=1, Survived=1, Ticket='PC 17599'),\n",
       " Row(Age=26.0, Cabin=None, Embarked='S', Fare=7.925, Name='Heikkinen, Miss. Laina', Parch=0, PassengerId=3, Pclass=3, Sex='female', SibSp=0, Survived=1, Ticket='STON/O2. 3101282'),\n",
       " Row(Age=35.0, Cabin='C123', Embarked='S', Fare=53.1, Name='Futrelle, Mrs. Jacques Heath (Lily May Peel)', Parch=0, PassengerId=4, Pclass=1, Sex='female', SibSp=1, Survived=1, Ticket='113803'),\n",
       " Row(Age=35.0, Cabin=None, Embarked='S', Fare=8.05, Name='Allen, Mr. William Henry', Parch=0, PassengerId=5, Pclass=3, Sex='male', SibSp=0, Survived=0, Ticket='373450')]"
      ]
     },
     "execution_count": 24,
     "metadata": {},
     "output_type": "execute_result"
    }
   ],
   "source": [
    "## take shows the records as a list\n",
    "user_log.take(5)"
   ]
  },
  {
   "cell_type": "code",
   "execution_count": 29,
   "metadata": {},
   "outputs": [
    {
     "data": {
      "text/plain": [
       "891"
      ]
     },
     "execution_count": 29,
     "metadata": {},
     "output_type": "execute_result"
    }
   ],
   "source": [
    "## count display the number of records in the dataframe\n",
    "user_log.count()"
   ]
  },
  {
   "cell_type": "code",
   "execution_count": 34,
   "metadata": {},
   "outputs": [
    {
     "data": {
      "text/plain": [
       "12"
      ]
     },
     "execution_count": 34,
     "metadata": {},
     "output_type": "execute_result"
    }
   ],
   "source": [
    "## we can check the number of columns in the dataframe\n",
    "len(user_log.columns)"
   ]
  },
  {
   "cell_type": "code",
   "execution_count": 42,
   "metadata": {},
   "outputs": [
    {
     "name": "stdout",
     "output_type": "stream",
     "text": [
      "+----+-----+--------+-------+--------------------+-----+-----------+------+------+-----+--------+----------------+\n",
      "| Age|Cabin|Embarked|   Fare|                Name|Parch|PassengerId|Pclass|   Sex|SibSp|Survived|          Ticket|\n",
      "+----+-----+--------+-------+--------------------+-----+-----------+------+------+-----+--------+----------------+\n",
      "|22.0| null|       S|   7.25|Braund, Mr. Owen ...|    0|          1|     3|  male|    1|       0|       A/5 21171|\n",
      "|38.0|  C85|       C|71.2833|Cumings, Mrs. Joh...|    0|          2|     1|female|    1|       1|        PC 17599|\n",
      "|26.0| null|       S|  7.925|Heikkinen, Miss. ...|    0|          3|     3|female|    0|       1|STON/O2. 3101282|\n",
      "|35.0| C123|       S|   53.1|Futrelle, Mrs. Ja...|    0|          4|     1|female|    1|       1|          113803|\n",
      "|35.0| null|       S|   8.05|Allen, Mr. Willia...|    0|          5|     3|  male|    0|       0|          373450|\n",
      "|null| null|       Q| 8.4583|    Moran, Mr. James|    0|          6|     3|  male|    0|       0|          330877|\n",
      "+----+-----+--------+-------+--------------------+-----+-----------+------+------+-----+--------+----------------+\n",
      "\n"
     ]
    }
   ],
   "source": [
    "## limit we can use if we want to copy first x rows into another dataframe\n",
    "user_log1 = user_log.limit(6)\n",
    "user_log1.show()"
   ]
  },
  {
   "cell_type": "markdown",
   "metadata": {},
   "source": [
    "Saving the Dataframe to csv file"
   ]
  },
  {
   "cell_type": "code",
   "execution_count": 27,
   "metadata": {},
   "outputs": [],
   "source": [
    "## lets save the dataframe in csv file\n",
    "out_path = \"titanic.csv\""
   ]
  },
  {
   "cell_type": "code",
   "execution_count": 53,
   "metadata": {},
   "outputs": [],
   "source": [
    "## it will create a folder named titanic.csv and inside that folder a file will be created something like \n",
    "#part-00000-b447870f-7167-41b1-987b-f4b570950c64-c000.csv\n",
    "user_log.write.save(out_path, format=\"csv\", header=True)"
   ]
  },
  {
   "cell_type": "markdown",
   "metadata": {},
   "source": [
    "Read the same csv file to cross if everything worked fine"
   ]
  },
  {
   "cell_type": "code",
   "execution_count": 43,
   "metadata": {},
   "outputs": [],
   "source": [
    "user_log_2 = spark.read.csv(out_path, header=True)"
   ]
  },
  {
   "cell_type": "code",
   "execution_count": 44,
   "metadata": {},
   "outputs": [
    {
     "name": "stdout",
     "output_type": "stream",
     "text": [
      "root\n",
      " |-- Age: string (nullable = true)\n",
      " |-- Cabin: string (nullable = true)\n",
      " |-- Embarked: string (nullable = true)\n",
      " |-- Fare: string (nullable = true)\n",
      " |-- Name: string (nullable = true)\n",
      " |-- Parch: string (nullable = true)\n",
      " |-- PassengerId: string (nullable = true)\n",
      " |-- Pclass: string (nullable = true)\n",
      " |-- Sex: string (nullable = true)\n",
      " |-- SibSp: string (nullable = true)\n",
      " |-- Survived: string (nullable = true)\n",
      " |-- Ticket: string (nullable = true)\n",
      "\n"
     ]
    }
   ],
   "source": [
    "user_log_2.printSchema()"
   ]
  },
  {
   "cell_type": "code",
   "execution_count": 45,
   "metadata": {},
   "outputs": [
    {
     "data": {
      "text/plain": [
       "[Row(Age='22.0', Cabin=None, Embarked='S', Fare='7.25', Name='Braund, Mr. Owen Harris', Parch='0', PassengerId='1', Pclass='3', Sex='male', SibSp='1', Survived='0', Ticket='A/5 21171'),\n",
       " Row(Age='38.0', Cabin='C85', Embarked='C', Fare='71.2833', Name='Cumings, Mrs. John Bradley (Florence Briggs Thayer)', Parch='0', PassengerId='2', Pclass='1', Sex='female', SibSp='1', Survived='1', Ticket='PC 17599')]"
      ]
     },
     "execution_count": 45,
     "metadata": {},
     "output_type": "execute_result"
    }
   ],
   "source": [
    "user_log_2.take(2)"
   ]
  },
  {
   "cell_type": "code",
   "execution_count": 51,
   "metadata": {},
   "outputs": [
    {
     "name": "stdout",
     "output_type": "stream",
     "text": [
      "+-----------+\n",
      "|PassengerId|\n",
      "+-----------+\n",
      "|          1|\n",
      "|          2|\n",
      "|          3|\n",
      "|          4|\n",
      "|          5|\n",
      "|          6|\n",
      "|          7|\n",
      "|          8|\n",
      "|          9|\n",
      "|         10|\n",
      "|         11|\n",
      "|         12|\n",
      "|         13|\n",
      "|         14|\n",
      "|         15|\n",
      "|         16|\n",
      "|         17|\n",
      "|         18|\n",
      "|         19|\n",
      "|         20|\n",
      "+-----------+\n",
      "only showing top 20 rows\n",
      "\n"
     ]
    }
   ],
   "source": [
    "user_log_2.select(\"PassengerId\").show()"
   ]
  },
  {
   "cell_type": "code",
   "execution_count": 49,
   "metadata": {},
   "outputs": [
    {
     "data": {
      "text/plain": [
       "[Row(Age='22.0', Cabin=None, Embarked='S', Fare='7.25', Name='Braund, Mr. Owen Harris', Parch='0', PassengerId='1', Pclass='3', Sex='male', SibSp='1', Survived='0', Ticket='A/5 21171'),\n",
       " Row(Age='38.0', Cabin='C85', Embarked='C', Fare='71.2833', Name='Cumings, Mrs. John Bradley (Florence Briggs Thayer)', Parch='0', PassengerId='2', Pclass='1', Sex='female', SibSp='1', Survived='1', Ticket='PC 17599'),\n",
       " Row(Age='26.0', Cabin=None, Embarked='S', Fare='7.925', Name='Heikkinen, Miss. Laina', Parch='0', PassengerId='3', Pclass='3', Sex='female', SibSp='0', Survived='1', Ticket='STON/O2. 3101282'),\n",
       " Row(Age='35.0', Cabin='C123', Embarked='S', Fare='53.1', Name='Futrelle, Mrs. Jacques Heath (Lily May Peel)', Parch='0', PassengerId='4', Pclass='1', Sex='female', SibSp='1', Survived='1', Ticket='113803')]"
      ]
     },
     "execution_count": 49,
     "metadata": {},
     "output_type": "execute_result"
    }
   ],
   "source": [
    "user_log_2.take(4)"
   ]
  },
  {
   "cell_type": "code",
   "execution_count": null,
   "metadata": {},
   "outputs": [],
   "source": []
  }
 ],
 "metadata": {
  "kernelspec": {
   "display_name": "Python 3",
   "language": "python",
   "name": "python3"
  },
  "language_info": {
   "codemirror_mode": {
    "name": "ipython",
    "version": 3
   },
   "file_extension": ".py",
   "mimetype": "text/x-python",
   "name": "python",
   "nbconvert_exporter": "python",
   "pygments_lexer": "ipython3",
   "version": "3.6.3"
  }
 },
 "nbformat": 4,
 "nbformat_minor": 1
}
